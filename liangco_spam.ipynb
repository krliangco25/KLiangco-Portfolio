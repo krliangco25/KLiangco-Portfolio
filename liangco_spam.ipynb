{
 "cells": [
  {
   "cell_type": "code",
   "execution_count": 58,
   "id": "91083b5c",
   "metadata": {},
   "outputs": [],
   "source": [
    "#Liangco, Ma. Karizza F.\n",
    "#COE005 - HW1\n",
    "\n",
    "#We were required to utilize tensorflow\n",
    "\n",
    "import numpy as np\n",
    "import pandas as pd\n",
    "import matplotlib.pyplot as plt\n",
    "import tensorflow as tf\n",
    "from tensorflow.keras.preprocessing.text import Tokenizer\n",
    "from tensorflow.keras.preprocessing.sequence import pad_sequences"
   ]
  },
  {
   "cell_type": "code",
   "execution_count": 59,
   "id": "72e7faaf",
   "metadata": {
    "scrolled": false
   },
   "outputs": [
    {
     "data": {
      "text/html": [
       "<div>\n",
       "<style scoped>\n",
       "    .dataframe tbody tr th:only-of-type {\n",
       "        vertical-align: middle;\n",
       "    }\n",
       "\n",
       "    .dataframe tbody tr th {\n",
       "        vertical-align: top;\n",
       "    }\n",
       "\n",
       "    .dataframe thead th {\n",
       "        text-align: right;\n",
       "    }\n",
       "</style>\n",
       "<table border=\"1\" class=\"dataframe\">\n",
       "  <thead>\n",
       "    <tr style=\"text-align: right;\">\n",
       "      <th></th>\n",
       "      <th>v1</th>\n",
       "      <th>v2</th>\n",
       "      <th>Unnamed: 2</th>\n",
       "      <th>Unnamed: 3</th>\n",
       "      <th>Unnamed: 4</th>\n",
       "    </tr>\n",
       "  </thead>\n",
       "  <tbody>\n",
       "    <tr>\n",
       "      <th>0</th>\n",
       "      <td>ham</td>\n",
       "      <td>Go until jurong point, crazy.. Available only ...</td>\n",
       "      <td>NaN</td>\n",
       "      <td>NaN</td>\n",
       "      <td>NaN</td>\n",
       "    </tr>\n",
       "    <tr>\n",
       "      <th>1</th>\n",
       "      <td>ham</td>\n",
       "      <td>Ok lar... Joking wif u oni...</td>\n",
       "      <td>NaN</td>\n",
       "      <td>NaN</td>\n",
       "      <td>NaN</td>\n",
       "    </tr>\n",
       "    <tr>\n",
       "      <th>2</th>\n",
       "      <td>spam</td>\n",
       "      <td>Free entry in 2 a wkly comp to win FA Cup fina...</td>\n",
       "      <td>NaN</td>\n",
       "      <td>NaN</td>\n",
       "      <td>NaN</td>\n",
       "    </tr>\n",
       "    <tr>\n",
       "      <th>3</th>\n",
       "      <td>ham</td>\n",
       "      <td>U dun say so early hor... U c already then say...</td>\n",
       "      <td>NaN</td>\n",
       "      <td>NaN</td>\n",
       "      <td>NaN</td>\n",
       "    </tr>\n",
       "    <tr>\n",
       "      <th>4</th>\n",
       "      <td>ham</td>\n",
       "      <td>Nah I don't think he goes to usf, he lives aro...</td>\n",
       "      <td>NaN</td>\n",
       "      <td>NaN</td>\n",
       "      <td>NaN</td>\n",
       "    </tr>\n",
       "  </tbody>\n",
       "</table>\n",
       "</div>"
      ],
      "text/plain": [
       "     v1                                                 v2 Unnamed: 2  \\\n",
       "0   ham  Go until jurong point, crazy.. Available only ...        NaN   \n",
       "1   ham                      Ok lar... Joking wif u oni...        NaN   \n",
       "2  spam  Free entry in 2 a wkly comp to win FA Cup fina...        NaN   \n",
       "3   ham  U dun say so early hor... U c already then say...        NaN   \n",
       "4   ham  Nah I don't think he goes to usf, he lives aro...        NaN   \n",
       "\n",
       "  Unnamed: 3 Unnamed: 4  \n",
       "0        NaN        NaN  \n",
       "1        NaN        NaN  \n",
       "2        NaN        NaN  \n",
       "3        NaN        NaN  \n",
       "4        NaN        NaN  "
      ]
     },
     "execution_count": 59,
     "metadata": {},
     "output_type": "execute_result"
    }
   ],
   "source": [
    "#Importing Gathered Data\n",
    "df = pd.read_csv('spam.csv', encoding = 'latin-1')\n",
    "df.head()"
   ]
  },
  {
   "cell_type": "code",
   "execution_count": 60,
   "id": "2e7b6f91",
   "metadata": {},
   "outputs": [
    {
     "data": {
      "text/html": [
       "<div>\n",
       "<style scoped>\n",
       "    .dataframe tbody tr th:only-of-type {\n",
       "        vertical-align: middle;\n",
       "    }\n",
       "\n",
       "    .dataframe tbody tr th {\n",
       "        vertical-align: top;\n",
       "    }\n",
       "\n",
       "    .dataframe thead th {\n",
       "        text-align: right;\n",
       "    }\n",
       "</style>\n",
       "<table border=\"1\" class=\"dataframe\">\n",
       "  <thead>\n",
       "    <tr style=\"text-align: right;\">\n",
       "      <th></th>\n",
       "      <th>label</th>\n",
       "      <th>text</th>\n",
       "    </tr>\n",
       "  </thead>\n",
       "  <tbody>\n",
       "    <tr>\n",
       "      <th>0</th>\n",
       "      <td>ham</td>\n",
       "      <td>Go until jurong point, crazy.. Available only ...</td>\n",
       "    </tr>\n",
       "    <tr>\n",
       "      <th>1</th>\n",
       "      <td>ham</td>\n",
       "      <td>Ok lar... Joking wif u oni...</td>\n",
       "    </tr>\n",
       "    <tr>\n",
       "      <th>2</th>\n",
       "      <td>spam</td>\n",
       "      <td>Free entry in 2 a wkly comp to win FA Cup fina...</td>\n",
       "    </tr>\n",
       "    <tr>\n",
       "      <th>3</th>\n",
       "      <td>ham</td>\n",
       "      <td>U dun say so early hor... U c already then say...</td>\n",
       "    </tr>\n",
       "    <tr>\n",
       "      <th>4</th>\n",
       "      <td>ham</td>\n",
       "      <td>Nah I don't think he goes to usf, he lives aro...</td>\n",
       "    </tr>\n",
       "  </tbody>\n",
       "</table>\n",
       "</div>"
      ],
      "text/plain": [
       "  label                                               text\n",
       "0   ham  Go until jurong point, crazy.. Available only ...\n",
       "1   ham                      Ok lar... Joking wif u oni...\n",
       "2  spam  Free entry in 2 a wkly comp to win FA Cup fina...\n",
       "3   ham  U dun say so early hor... U c already then say...\n",
       "4   ham  Nah I don't think he goes to usf, he lives aro..."
      ]
     },
     "execution_count": 60,
     "metadata": {},
     "output_type": "execute_result"
    }
   ],
   "source": [
    "#Preparing the Gathered Data\n",
    "#Dropping Irrelevant and Empty Columns\n",
    "\n",
    "data = df.copy()\n",
    "data.drop(columns=[\"Unnamed: 2\", \"Unnamed: 3\", \"Unnamed: 4\"], inplace=True)\n",
    "\n",
    "#Renaming Columns to avoid confusion\n",
    "\n",
    "data = data.rename(columns={\"v1\":\"label\", \"v2\":\"text\"})\n",
    "data.head()"
   ]
  },
  {
   "cell_type": "code",
   "execution_count": 61,
   "id": "3184fcac",
   "metadata": {
    "scrolled": true
   },
   "outputs": [
    {
     "data": {
      "text/html": [
       "<div>\n",
       "<style scoped>\n",
       "    .dataframe tbody tr th:only-of-type {\n",
       "        vertical-align: middle;\n",
       "    }\n",
       "\n",
       "    .dataframe tbody tr th {\n",
       "        vertical-align: top;\n",
       "    }\n",
       "\n",
       "    .dataframe thead th {\n",
       "        text-align: right;\n",
       "    }\n",
       "</style>\n",
       "<table border=\"1\" class=\"dataframe\">\n",
       "  <thead>\n",
       "    <tr style=\"text-align: right;\">\n",
       "      <th></th>\n",
       "      <th>label</th>\n",
       "      <th>text</th>\n",
       "    </tr>\n",
       "  </thead>\n",
       "  <tbody>\n",
       "    <tr>\n",
       "      <th>0</th>\n",
       "      <td>0</td>\n",
       "      <td>Go until jurong point, crazy.. Available only ...</td>\n",
       "    </tr>\n",
       "    <tr>\n",
       "      <th>1</th>\n",
       "      <td>0</td>\n",
       "      <td>Ok lar... Joking wif u oni...</td>\n",
       "    </tr>\n",
       "    <tr>\n",
       "      <th>2</th>\n",
       "      <td>1</td>\n",
       "      <td>Free entry in 2 a wkly comp to win FA Cup fina...</td>\n",
       "    </tr>\n",
       "    <tr>\n",
       "      <th>3</th>\n",
       "      <td>0</td>\n",
       "      <td>U dun say so early hor... U c already then say...</td>\n",
       "    </tr>\n",
       "    <tr>\n",
       "      <th>4</th>\n",
       "      <td>0</td>\n",
       "      <td>Nah I don't think he goes to usf, he lives aro...</td>\n",
       "    </tr>\n",
       "  </tbody>\n",
       "</table>\n",
       "</div>"
      ],
      "text/plain": [
       "   label                                               text\n",
       "0      0  Go until jurong point, crazy.. Available only ...\n",
       "1      0                      Ok lar... Joking wif u oni...\n",
       "2      1  Free entry in 2 a wkly comp to win FA Cup fina...\n",
       "3      0  U dun say so early hor... U c already then say...\n",
       "4      0  Nah I don't think he goes to usf, he lives aro..."
      ]
     },
     "execution_count": 61,
     "metadata": {},
     "output_type": "execute_result"
    }
   ],
   "source": [
    "#Creating Binary Representation, ham as 0 and spam as 1\n",
    "\n",
    "data['label']=data['label'].map({'ham':0,'spam':1})\n",
    "data.head()"
   ]
  },
  {
   "cell_type": "code",
   "execution_count": 62,
   "id": "d0fee700",
   "metadata": {},
   "outputs": [
    {
     "data": {
      "image/png": "[encoded data removed]",
      "text/plain": [
       "<Figure size 1800x800 with 1 Axes>"
      ]
     },
     "metadata": {},
     "output_type": "display_data"
    }
   ],
   "source": [
    "#Displaying Prepared Data for Visualization\n",
    "\n",
    "plt.figure(figsize=(18, 8))\n",
    "plt.subplot(1, 2, 1)\n",
    "df.v1.value_counts().plot(kind=\"pie\",\n",
    "                                           fontsize=16,\n",
    "                                           labels=[\"Spam\", \"Ham\"],\n",
    "                                           ylabel=\"Spam vs Ham\",\n",
    "                                           autopct='%1.1f%%');"
   ]
  },
  {
   "cell_type": "code",
   "execution_count": 63,
   "id": "f230f179",
   "metadata": {},
   "outputs": [],
   "source": [
    "#Dividing data into training and testing, 80% Training and 20% Testing\n",
    "\n",
    "sentences = data['text'].tolist()\n",
    "labels = data['label'].tolist()\n",
    "\n",
    "training_size = int(len(sentences) * 0.8)\n",
    "\n",
    "training_sentences = sentences[0:training_size]\n",
    "testing_sentences = sentences[training_size:]\n",
    "training_labels = labels[0:training_size]\n",
    "testing_labels = labels[training_size:]\n",
    "\n",
    "#Creation of Labels into Numpy Arrays\n",
    "training_labels_final = np.array(training_labels)\n",
    "testing_labels_final = np.array(testing_labels)"
   ]
  },
  {
   "cell_type": "code",
   "execution_count": 64,
   "id": "183b7d25",
   "metadata": {},
   "outputs": [],
   "source": [
    "#Breaking down of the Data to Tokens\n",
    "\n",
    "vocab_size = 1000\n",
    "embedding_dim = 16\n",
    "max_length = 100\n",
    "trunc_type='post'\n",
    "padding_type='post'\n",
    "oov_tok = \"<OOV>\"\n",
    "\n",
    "from tensorflow.keras.preprocessing.text import Tokenizer\n",
    "from tensorflow.keras.preprocessing.sequence import pad_sequences\n",
    "\n",
    "tokenizer = Tokenizer(num_words = vocab_size, oov_token=oov_tok)\n",
    "tokenizer.fit_on_texts(training_sentences)\n",
    "word_index = tokenizer.word_index\n",
    "sequences = tokenizer.texts_to_sequences(training_sentences)\n",
    "padded = pad_sequences(sequences,maxlen=max_length, padding=padding_type, \n",
    "                       truncating=trunc_type)\n",
    "\n",
    "testing_sequences = tokenizer.texts_to_sequences(testing_sentences)\n",
    "testing_padded = pad_sequences(testing_sequences,maxlen=max_length, \n",
    "                               padding=padding_type, truncating=trunc_type)"
   ]
  },
  {
   "cell_type": "code",
   "execution_count": 65,
   "id": "dae70d73",
   "metadata": {},
   "outputs": [],
   "source": [
    "#Making sure that the padded sequence is working properly\n",
    "\n",
    "reverse_word_index = dict([(value, key) for (key, value) in word_index.items()])\n",
    "\n",
    "def decode_review(text):\n",
    "    return ' '.join([reverse_word_index.get(i, '?') for i in text])"
   ]
  },
  {
   "cell_type": "code",
   "execution_count": 66,
   "id": "70339533",
   "metadata": {
    "scrolled": true
   },
   "outputs": [
    {
     "name": "stdout",
     "output_type": "stream",
     "text": [
      "Model: \"sequential_5\"\n",
      "_________________________________________________________________\n",
      " Layer (type)                Output Shape              Param #   \n",
      "=================================================================\n",
      " embedding_5 (Embedding)     (None, 100, 16)           16000     \n",
      "                                                                 \n",
      " flatten_5 (Flatten)         (None, 1600)              0         \n",
      "                                                                 \n",
      " dense_10 (Dense)            (None, 6)                 9606      \n",
      "                                                                 \n",
      " dense_11 (Dense)            (None, 1)                 7         \n",
      "                                                                 \n",
      "=================================================================\n",
      "Total params: 25,613\n",
      "Trainable params: 25,613\n",
      "Non-trainable params: 0\n",
      "_________________________________________________________________\n"
     ]
    }
   ],
   "source": [
    "#Choosing and Creation of Model\n",
    "\n",
    "model = tf.keras.Sequential([\n",
    "    tf.keras.layers.Embedding(vocab_size, embedding_dim, input_length=max_length),\n",
    "    tf.keras.layers.Flatten(),\n",
    "    tf.keras.layers.Dense(6, activation='relu'),\n",
    "    tf.keras.layers.Dense(1, activation='sigmoid')\n",
    "])\n",
    "\n",
    "#I chose Adam as Optimizer \n",
    "model.compile(loss='binary_crossentropy',optimizer='adam',metrics=['accuracy'])\n",
    "model.summary()"
   ]
  },
  {
   "cell_type": "code",
   "execution_count": 67,
   "id": "d1e5580a",
   "metadata": {
    "scrolled": false
   },
   "outputs": [
    {
     "name": "stdout",
     "output_type": "stream",
     "text": [
      "Epoch 1/50\n",
      "140/140 [==============================] - 1s 4ms/step - loss: 0.3552 - accuracy: 0.8593 - val_loss: 0.2004 - val_accuracy: 0.8700\n",
      "Epoch 2/50\n",
      "140/140 [==============================] - 0s 2ms/step - loss: 0.1752 - accuracy: 0.9013 - val_loss: 0.1467 - val_accuracy: 0.9713\n",
      "Epoch 3/50\n",
      "140/140 [==============================] - 0s 2ms/step - loss: 0.1379 - accuracy: 0.9726 - val_loss: 0.1318 - val_accuracy: 0.9803\n",
      "Epoch 4/50\n",
      "140/140 [==============================] - 0s 2ms/step - loss: 0.1207 - accuracy: 0.9816 - val_loss: 0.1185 - val_accuracy: 0.9830\n",
      "Epoch 5/50\n",
      "140/140 [==============================] - 0s 2ms/step - loss: 0.1068 - accuracy: 0.9863 - val_loss: 0.1111 - val_accuracy: 0.9839\n",
      "Epoch 6/50\n",
      "140/140 [==============================] - 0s 2ms/step - loss: 0.0960 - accuracy: 0.9895 - val_loss: 0.1058 - val_accuracy: 0.9848\n",
      "Epoch 7/50\n",
      "140/140 [==============================] - 0s 2ms/step - loss: 0.0825 - accuracy: 0.9908 - val_loss: 0.0615 - val_accuracy: 0.9848\n",
      "Epoch 8/50\n",
      "140/140 [==============================] - 0s 2ms/step - loss: 0.0246 - accuracy: 0.9939 - val_loss: 0.0516 - val_accuracy: 0.9839\n",
      "Epoch 9/50\n",
      "140/140 [==============================] - 0s 2ms/step - loss: 0.0176 - accuracy: 0.9957 - val_loss: 0.0551 - val_accuracy: 0.9839\n",
      "Epoch 10/50\n",
      "140/140 [==============================] - 0s 2ms/step - loss: 0.0139 - accuracy: 0.9962 - val_loss: 0.0601 - val_accuracy: 0.9848\n",
      "Epoch 11/50\n",
      "140/140 [==============================] - 0s 2ms/step - loss: 0.0120 - accuracy: 0.9969 - val_loss: 0.0574 - val_accuracy: 0.9830\n",
      "Epoch 12/50\n",
      "140/140 [==============================] - 0s 2ms/step - loss: 0.0094 - accuracy: 0.9980 - val_loss: 0.0659 - val_accuracy: 0.9848\n",
      "Epoch 13/50\n",
      "140/140 [==============================] - 0s 2ms/step - loss: 0.0083 - accuracy: 0.9989 - val_loss: 0.0622 - val_accuracy: 0.9848\n",
      "Epoch 14/50\n",
      "140/140 [==============================] - 0s 2ms/step - loss: 0.0071 - accuracy: 0.9989 - val_loss: 0.0675 - val_accuracy: 0.9857\n",
      "Epoch 15/50\n",
      "140/140 [==============================] - 0s 2ms/step - loss: 0.0065 - accuracy: 0.9991 - val_loss: 0.0686 - val_accuracy: 0.9857\n",
      "Epoch 16/50\n",
      "140/140 [==============================] - 0s 2ms/step - loss: 0.0057 - accuracy: 0.9991 - val_loss: 0.0694 - val_accuracy: 0.9848\n",
      "Epoch 17/50\n",
      "140/140 [==============================] - 0s 2ms/step - loss: 0.0052 - accuracy: 0.9993 - val_loss: 0.0706 - val_accuracy: 0.9839\n",
      "Epoch 18/50\n",
      "140/140 [==============================] - 0s 2ms/step - loss: 0.0049 - accuracy: 0.9991 - val_loss: 0.0758 - val_accuracy: 0.9857\n",
      "Epoch 19/50\n",
      "140/140 [==============================] - 0s 2ms/step - loss: 0.0041 - accuracy: 0.9993 - val_loss: 0.0751 - val_accuracy: 0.9857\n",
      "Epoch 20/50\n",
      "140/140 [==============================] - 0s 2ms/step - loss: 0.0040 - accuracy: 0.9993 - val_loss: 0.0775 - val_accuracy: 0.9865\n",
      "Epoch 21/50\n",
      "140/140 [==============================] - 0s 2ms/step - loss: 0.0035 - accuracy: 0.9996 - val_loss: 0.0840 - val_accuracy: 0.9857\n",
      "Epoch 22/50\n",
      "140/140 [==============================] - 0s 2ms/step - loss: 0.0031 - accuracy: 0.9996 - val_loss: 0.0801 - val_accuracy: 0.9857\n",
      "Epoch 23/50\n",
      "140/140 [==============================] - 0s 2ms/step - loss: 0.0037 - accuracy: 0.9996 - val_loss: 0.0897 - val_accuracy: 0.9865\n",
      "Epoch 24/50\n",
      "140/140 [==============================] - 0s 2ms/step - loss: 0.0027 - accuracy: 0.9996 - val_loss: 0.0860 - val_accuracy: 0.9857\n",
      "Epoch 25/50\n",
      "140/140 [==============================] - 0s 2ms/step - loss: 0.0025 - accuracy: 0.9996 - val_loss: 0.0880 - val_accuracy: 0.9857\n",
      "Epoch 26/50\n",
      "140/140 [==============================] - 0s 2ms/step - loss: 0.0024 - accuracy: 0.9998 - val_loss: 0.0887 - val_accuracy: 0.9857\n",
      "Epoch 27/50\n",
      "140/140 [==============================] - 0s 2ms/step - loss: 0.0022 - accuracy: 0.9998 - val_loss: 0.0955 - val_accuracy: 0.9865\n",
      "Epoch 28/50\n",
      "140/140 [==============================] - 0s 2ms/step - loss: 0.0022 - accuracy: 0.9998 - val_loss: 0.0966 - val_accuracy: 0.9857\n",
      "Epoch 29/50\n",
      "140/140 [==============================] - 0s 2ms/step - loss: 0.0020 - accuracy: 0.9998 - val_loss: 0.0956 - val_accuracy: 0.9857\n",
      "Epoch 30/50\n",
      "140/140 [==============================] - 0s 2ms/step - loss: 0.0020 - accuracy: 0.9998 - val_loss: 0.0973 - val_accuracy: 0.9848\n",
      "Epoch 31/50\n",
      "140/140 [==============================] - 0s 2ms/step - loss: 0.0019 - accuracy: 0.9998 - val_loss: 0.0993 - val_accuracy: 0.9848\n",
      "Epoch 32/50\n",
      "140/140 [==============================] - 0s 2ms/step - loss: 0.0019 - accuracy: 0.9998 - val_loss: 0.0986 - val_accuracy: 0.9848\n",
      "Epoch 33/50\n",
      "140/140 [==============================] - 0s 2ms/step - loss: 0.0017 - accuracy: 0.9998 - val_loss: 0.1006 - val_accuracy: 0.9848\n",
      "Epoch 34/50\n",
      "140/140 [==============================] - 0s 2ms/step - loss: 0.0018 - accuracy: 0.9998 - val_loss: 0.1037 - val_accuracy: 0.9848\n",
      "Epoch 35/50\n",
      "140/140 [==============================] - 0s 2ms/step - loss: 0.0017 - accuracy: 0.9998 - val_loss: 0.1040 - val_accuracy: 0.9848\n",
      "Epoch 36/50\n",
      "140/140 [==============================] - 0s 2ms/step - loss: 0.0017 - accuracy: 0.9998 - val_loss: 0.1097 - val_accuracy: 0.9839\n",
      "Epoch 37/50\n",
      "140/140 [==============================] - 0s 2ms/step - loss: 0.0015 - accuracy: 0.9998 - val_loss: 0.1077 - val_accuracy: 0.9848\n",
      "Epoch 38/50\n",
      "140/140 [==============================] - 0s 2ms/step - loss: 0.0015 - accuracy: 0.9998 - val_loss: 0.1050 - val_accuracy: 0.9848\n",
      "Epoch 39/50\n",
      "140/140 [==============================] - 0s 2ms/step - loss: 0.0016 - accuracy: 0.9998 - val_loss: 0.1087 - val_accuracy: 0.9839\n",
      "Epoch 40/50\n",
      "140/140 [==============================] - 0s 2ms/step - loss: 0.0016 - accuracy: 0.9998 - val_loss: 0.1130 - val_accuracy: 0.9839\n",
      "Epoch 41/50\n",
      "140/140 [==============================] - 0s 2ms/step - loss: 0.0014 - accuracy: 0.9998 - val_loss: 0.1144 - val_accuracy: 0.9839\n",
      "Epoch 42/50\n",
      "140/140 [==============================] - 0s 2ms/step - loss: 0.0014 - accuracy: 0.9998 - val_loss: 0.1126 - val_accuracy: 0.9839\n",
      "Epoch 43/50\n",
      "140/140 [==============================] - 0s 2ms/step - loss: 0.0014 - accuracy: 0.9998 - val_loss: 0.1178 - val_accuracy: 0.9839\n",
      "Epoch 44/50\n",
      "140/140 [==============================] - 0s 2ms/step - loss: 0.0013 - accuracy: 0.9998 - val_loss: 0.1157 - val_accuracy: 0.9839\n",
      "Epoch 45/50\n",
      "140/140 [==============================] - 0s 2ms/step - loss: 0.0010 - accuracy: 0.9998 - val_loss: 0.1199 - val_accuracy: 0.9848\n",
      "Epoch 46/50\n",
      "140/140 [==============================] - 0s 2ms/step - loss: 0.0013 - accuracy: 0.9998 - val_loss: 0.1352 - val_accuracy: 0.9839\n",
      "Epoch 47/50\n",
      "140/140 [==============================] - 0s 2ms/step - loss: 0.0012 - accuracy: 0.9998 - val_loss: 0.1360 - val_accuracy: 0.9839\n",
      "Epoch 48/50\n",
      "140/140 [==============================] - 0s 2ms/step - loss: 0.0012 - accuracy: 0.9998 - val_loss: 0.1331 - val_accuracy: 0.9839\n",
      "Epoch 49/50\n",
      "140/140 [==============================] - 0s 2ms/step - loss: 0.0012 - accuracy: 0.9998 - val_loss: 0.1313 - val_accuracy: 0.9839\n",
      "Epoch 50/50\n",
      "140/140 [==============================] - 0s 2ms/step - loss: 0.0010 - accuracy: 0.9998 - val_loss: 0.1289 - val_accuracy: 0.9830\n",
      "dict_keys(['loss', 'accuracy', 'val_loss', 'val_accuracy'])\n"
     ]
    },
    {
     "data": {
      "image/png": "[encoded data removed]",
      "text/plain": [
       "<Figure size 640x480 with 1 Axes>"
      ]
     },
     "metadata": {},
     "output_type": "display_data"
    }
   ],
   "source": [
    "#Training the Model\n",
    "\n",
    "num_epochs = 50\n",
    "history=model.fit(padded, training_labels_final, epochs=num_epochs, validation_data=(testing_padded, testing_labels_final))\n",
    "\n",
    "print(history.history.keys())\n",
    "\n",
    "#Summary for Evaluation of Accuracy and Loss\n",
    "plt.plot(history.history['loss'])\n",
    "plt.plot(history.history['val_loss'])\n",
    "plt.title('model loss')\n",
    "plt.ylabel('loss')\n",
    "plt.xlabel('epoch')\n",
    "plt.legend(['train', 'val'], loc='upper left')\n",
    "plt.show()"
   ]
  },
  {
   "cell_type": "code",
   "execution_count": 68,
   "id": "caed5749",
   "metadata": {},
   "outputs": [
    {
     "name": "stdout",
     "output_type": "stream",
     "text": [
      "(1000, 16)\n"
     ]
    }
   ],
   "source": [
    "#Getting the weights of the embedded layers\n",
    "\n",
    "e = model.layers[0]\n",
    "weights = e.get_weights()[0]\n",
    "print(weights.shape) # shape: (vocab_size, embedding_dim)"
   ]
  },
  {
   "cell_type": "code",
   "execution_count": 69,
   "id": "cb0649f8",
   "metadata": {},
   "outputs": [],
   "source": [
    "#Embedding Vectors for representation of Data\n",
    "\n",
    "import io\n",
    "\n",
    "out_v = io.open('vecs.tsv', 'w', encoding='utf-8')\n",
    "out_m = io.open('meta.tsv', 'w', encoding='utf-8')\n",
    "for word_num in range(1, vocab_size):\n",
    "  word = reverse_word_index[word_num]\n",
    "  embeddings = weights[word_num]\n",
    "  out_m.write(word + \"\\n\")\n",
    "  out_v.write('\\t'.join([str(x) for x in embeddings]) + \"\\n\")\n",
    "out_v.close()\n",
    "out_m.close()"
   ]
  },
  {
   "cell_type": "code",
   "execution_count": 70,
   "id": "cd69c64a",
   "metadata": {
    "scrolled": true
   },
   "outputs": [
    {
     "name": "stdout",
     "output_type": "stream",
     "text": [
      "                                                 text\n",
      "0   Feel Yourself That You Are Always Happy.. Slow...\n",
      "1   staff.science.nus.edu.sg/~phyhcmk/teaching/pc1323\n",
      "2                         Send me yetty's number pls.\n",
      "3   Hey so this sat are we going for the intro pil...\n",
      "4   I got it before the new year cos yetunde said ...\n",
      "5   Hey we can go jazz power yoga hip hop kb and y...\n",
      "6   Hey mate. Spoke to the mag people. We‰Û÷re on....\n",
      "7                              Morning only i can ok.\n",
      "8                                 Wat time Ì_ finish?\n",
      "9               Shant disturb u anymore... Jia you...\n",
      "10  4mths half price Orange line rental & latest c...\n",
      "11  Your opinion about me? 1. Over 2. Jada 3. Kusr...\n",
      "12  MOON has come to color your dreams, STARS to m...\n",
      "13  You are a winner U have been specially selecte...\n",
      "14  Unless it's a situation where YOU GO GURL woul...\n",
      "15  Awww dat is sweet! We can think of something t...\n",
      "16                            Bring tat cd don forget\n",
      "17  Single line with a big meaning::::: \\Miss anyt...\n",
      "18     Jay's getting really impatient and belligerent\n",
      "19  Lol they were mad at first but then they woke ...\n"
     ]
    }
   ],
   "source": [
    "#Testing the Model\n",
    "\n",
    "testing = pd.read_csv('output_spam.csv')\n",
    "testing = testing.drop([\"Unnamed: 0\"], axis = 1)\n",
    "print(testing)"
   ]
  },
  {
   "cell_type": "code",
   "execution_count": 71,
   "id": "30b8b19b",
   "metadata": {
    "scrolled": true
   },
   "outputs": [],
   "source": [
    "#Putting the data into Array \n",
    "\n",
    "text = np.asanyarray(testing['text'])"
   ]
  },
  {
   "cell_type": "code",
   "execution_count": 72,
   "id": "bef67b3f",
   "metadata": {},
   "outputs": [
    {
     "name": "stdout",
     "output_type": "stream",
     "text": [
      "1/1 [==============================] - 0s 49ms/step\n"
     ]
    }
   ],
   "source": [
    "# Creating the Sequence for Prediction\n",
    "padding_type='post'\n",
    "sample_sequences = tokenizer.texts_to_sequences(text)\n",
    "test_data_padded = pad_sequences(sample_sequences, padding=padding_type, maxlen=max_length)      \n",
    "\n",
    "classes = model.predict(test_data_padded)"
   ]
  },
  {
   "cell_type": "code",
   "execution_count": 73,
   "id": "a26a195b",
   "metadata": {
    "scrolled": true
   },
   "outputs": [
    {
     "name": "stdout",
     "output_type": "stream",
     "text": [
      "['Feel Yourself That You Are Always Happy.. Slowly It Becomes Your Habit &amp; Finally It Becomes Part Of Your Life.. Follow It.. Happy Morning &amp; Have A Happy Day:)'\n",
      " 'staff.science.nus.edu.sg/~phyhcmk/teaching/pc1323'\n",
      " \"Send me yetty's number pls.\"\n",
      " 'Hey so this sat are we going for the intro pilates only? Or the kickboxing too? '\n",
      " 'I got it before the new year cos yetunde said she wanted to surprise you with it but when i didnt see money i returned it mid january before the  &lt;#&gt; day return period ended.'\n",
      " 'Hey we can go jazz power yoga hip hop kb and yogasana '\n",
      " 'Hey mate. Spoke to the mag people. We‰Û÷re on.  the is deliver by the end of the month. Deliver on the 24th sept. Talk later. '\n",
      " 'Morning only i can ok.' 'Wat time Ì_ finish?'\n",
      " 'Shant disturb u anymore... Jia you...'\n",
      " '4mths half price Orange line rental & latest camera phones 4 FREE. Had your phone 11mths ? Call MobilesDirect free on 08000938767 to update now! or2stoptxt'\n",
      " 'Your opinion about me? 1. Over 2. Jada 3. Kusruthi 4. Lovable 5. Silent 6. Spl character 7. Not matured 8. Stylish 9. Simple Pls reply..'\n",
      " 'MOON has come to color your dreams, STARS to make them musical and my SMS to give you warm and Peaceful Sleep. Good Night'\n",
      " 'You are a winner U have been specially selected 2 receive å£1000 cash or a 4* holiday (flights inc) speak to a live operator 2 claim 0871277810810'\n",
      " \"Unless it's a situation where YOU GO GURL would be more appropriate\"\n",
      " 'Awww dat is sweet! We can think of something to do he he! Have a nice time tonight ill probably txt u later cos im lonely :( xxx.'\n",
      " 'Bring tat cd don forget'\n",
      " 'Single line with a big meaning::::: \\\\Miss anything 4 ur \\\\\"Best Life\\\\\" but'\n",
      " \"Jay's getting really impatient and belligerent\"\n",
      " 'Lol they were mad at first but then they woke up and gave in.']\n",
      "1/1 [==============================] - 0s 20ms/step\n",
      "Feel Yourself That You Are Always Happy.. Slowly It Becomes Your Habit &amp; Finally It Becomes Part Of Your Life.. Follow It.. Happy Morning &amp; Have A Happy Day:)\n",
      "[5.2426562e-18]\n",
      "\n",
      "\n",
      "staff.science.nus.edu.sg/~phyhcmk/teaching/pc1323\n",
      "[0.00741837]\n",
      "\n",
      "\n",
      "Send me yetty's number pls.\n",
      "[1.3200095e-05]\n",
      "\n",
      "\n",
      "Hey so this sat are we going for the intro pilates only? Or the kickboxing too? \n",
      "[2.0406338e-08]\n",
      "\n",
      "\n",
      "I got it before the new year cos yetunde said she wanted to surprise you with it but when i didnt see money i returned it mid january before the  &lt;#&gt; day return period ended.\n",
      "[4.962271e-12]\n",
      "\n",
      "\n",
      "Hey we can go jazz power yoga hip hop kb and yogasana \n",
      "[1.3224498e-07]\n",
      "\n",
      "\n",
      "Hey mate. Spoke to the mag people. We‰Û÷re on.  the is deliver by the end of the month. Deliver on the 24th sept. Talk later. \n",
      "[1.2579391e-08]\n",
      "\n",
      "\n",
      "Morning only i can ok.\n",
      "[1.069543e-09]\n",
      "\n",
      "\n",
      "Wat time Ì_ finish?\n",
      "[7.3195906e-07]\n",
      "\n",
      "\n",
      "Shant disturb u anymore... Jia you...\n",
      "[4.2891574e-05]\n",
      "\n",
      "\n",
      "4mths half price Orange line rental & latest camera phones 4 FREE. Had your phone 11mths ? Call MobilesDirect free on 08000938767 to update now! or2stoptxt\n",
      "[0.9999944]\n",
      "\n",
      "\n",
      "Your opinion about me? 1. Over 2. Jada 3. Kusruthi 4. Lovable 5. Silent 6. Spl character 7. Not matured 8. Stylish 9. Simple Pls reply..\n",
      "[8.345939e-07]\n",
      "\n",
      "\n",
      "MOON has come to color your dreams, STARS to make them musical and my SMS to give you warm and Peaceful Sleep. Good Night\n",
      "[6.851382e-07]\n",
      "\n",
      "\n",
      "You are a winner U have been specially selected 2 receive å£1000 cash or a 4* holiday (flights inc) speak to a live operator 2 claim 0871277810810\n",
      "[0.9999987]\n",
      "\n",
      "\n",
      "Unless it's a situation where YOU GO GURL would be more appropriate\n",
      "[1.3759931e-05]\n",
      "\n",
      "\n",
      "Awww dat is sweet! We can think of something to do he he! Have a nice time tonight ill probably txt u later cos im lonely :( xxx.\n",
      "[2.383095e-16]\n",
      "\n",
      "\n",
      "Bring tat cd don forget\n",
      "[0.00012831]\n",
      "\n",
      "\n",
      "Single line with a big meaning::::: \\Miss anything 4 ur \\\"Best Life\\\" but\n",
      "[1.09723815e-05]\n",
      "\n",
      "\n",
      "Jay's getting really impatient and belligerent\n",
      "[0.00279528]\n",
      "\n",
      "\n",
      "Lol they were mad at first but then they woke up and gave in.\n",
      "[9.353028e-08]\n",
      "\n",
      "\n"
     ]
    }
   ],
   "source": [
    "#Prediction of Model if the Message is Spam or Ham\n",
    "text_messages = (text)\n",
    "\n",
    "print(text_messages) \n",
    "\n",
    "# Create the sequences\n",
    "padding_type='post'\n",
    "sample_sequences = tokenizer.texts_to_sequences(text_messages)\n",
    "fakes_padded = pad_sequences(sample_sequences, padding=padding_type, maxlen=max_length)           \n",
    "\n",
    "classes = model.predict(fakes_padded)\n",
    "\n",
    "#If the class number is closer to 1, then it is more likely a Spam\n",
    "for x in range(len(text)):\n",
    "  print(text[x])\n",
    "  print(classes[x])\n",
    "  print('\\n')"
   ]
  },
  {
   "cell_type": "code",
   "execution_count": 74,
   "id": "04ddf6ad",
   "metadata": {
    "scrolled": true
   },
   "outputs": [
    {
     "name": "stdout",
     "output_type": "stream",
     "text": [
      "   label\n",
      "0    ham\n",
      "1    ham\n",
      "2    ham\n",
      "3    ham\n",
      "4    ham\n",
      "5    ham\n",
      "6    ham\n",
      "7    ham\n",
      "8    ham\n",
      "9    ham\n",
      "10  spam\n",
      "11   ham\n",
      "12   ham\n",
      "13  spam\n",
      "14   ham\n",
      "15   ham\n",
      "16   ham\n",
      "17   ham\n",
      "18   ham\n",
      "19   ham\n"
     ]
    }
   ],
   "source": [
    "#If-else statement to determine if Spam or Ham based on Class Value\n",
    "\n",
    "classes_conv = ['spam' if x > 0.1 else 'ham' for x in classes]\n",
    "prediction_test_out = pd.DataFrame(classes_conv, columns=['label']).to_csv(\"liangco_spam_output.csv\", index=False)\n",
    "\n",
    "#Outputting the Predicted Results in a CSV File\n",
    "af = pd.read_csv('output.csv', encoding = 'latin-1')\n",
    "print(af)"
   ]
  },
  {
   "cell_type": "code",
   "execution_count": null,
   "id": "c4becb0c",
   "metadata": {},
   "outputs": [],
   "source": []
  }
 ],
 "metadata": {
  "kernelspec": {
   "display_name": "Python 3 (ipykernel)",
   "language": "python",
   "name": "python3"
  },
  "language_info": {
   "codemirror_mode": {
    "name": "ipython",
    "version": 3
   },
   "file_extension": ".py",
   "mimetype": "text/x-python",
   "name": "python",
   "nbconvert_exporter": "python",
   "pygments_lexer": "ipython3",
   "version": "3.9.13"
  },
  "vscode": {
   "interpreter": {
    "hash": "6f2a54ea99a2bcdc2a71957e2384c7af021003506b064100fe04c0aeed3d410e"
   }
  }
 },
 "nbformat": 4,
 "nbformat_minor": 5
}
